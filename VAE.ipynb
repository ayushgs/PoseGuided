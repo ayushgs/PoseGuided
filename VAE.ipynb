{
 "cells": [
  {
   "cell_type": "code",
   "execution_count": 75,
   "metadata": {},
   "outputs": [
    {
     "name": "stdout",
     "output_type": "stream",
     "text": [
      "False\n"
     ]
    }
   ],
   "source": [
    "#importing dependencies\n",
    "\n",
    "import torch\n",
    "import torch.nn as nn\n",
    "import torch.optim as optim\n",
    "import torch.nn.functional as F\n",
    "from torch.utils.data import DataLoader\n",
    "from torch.utils.data import sampler\n",
    "import torchvision.datasets as dsets\n",
    "import torchvision.transforms as transforms\n",
    "import numpy as np\n",
    "import matplotlib.pyplot as plt\n",
    "from torchvision.utils import save_image\n",
    "\n",
    "#import _pickle as cpickle #to store model histories in a file\n",
    "import os\n",
    "import imageio\n",
    "from PIL import Image\n",
    "\n",
    "use_cuda = False\n",
    "device   = torch.device('cpu')\n",
    "if torch.cuda.is_available():\n",
    "    use_cuda = True\n",
    "    device   = torch.device('cuda')\n",
    "print(use_cuda)    \n",
    "    \n",
    "%matplotlib inline\n",
    "plt.rcParams['figure.figsize'] = (10.0, 8.0) # set default size of plots\""
   ]
  },
  {
   "cell_type": "code",
   "execution_count": 76,
   "metadata": {},
   "outputs": [],
   "source": [
    "#specifying parameters\n",
    "image_size = 64 #HACK to use MNIST architecture\n",
    "G_input_dim = 100\n",
    "G_output_dim = 3\n",
    "D_input_dim = 3\n",
    "D_output_dim = 1\n",
    "num_filters = [1024, 512, 256, 128]\n",
    "\n",
    "learning_rate = 0.0002\n",
    "betas = (0.5, 0.999)\n",
    "batch_size = 128\n",
    "num_epochs = 20\n",
    "\n",
    "data_dir = './Train_data'\n",
    "save_dir = './DCGAN_results/'"
   ]
  },
  {
   "cell_type": "code",
   "execution_count": 77,
   "metadata": {},
   "outputs": [
    {
     "name": "stdout",
     "output_type": "stream",
     "text": [
      "/Users/vivek1410patel/Documents/Quarter 3/CS231n/project/PoseGuided\n"
     ]
    }
   ],
   "source": [
    "print(os.getcwd())"
   ]
  },
  {
   "cell_type": "code",
   "execution_count": 78,
   "metadata": {},
   "outputs": [],
   "source": [
    "#loading data\n",
    "\n",
    "transform = transforms.Compose([\n",
    "                                 #Hack to make MNIST code work\n",
    "                                transforms.ToTensor(),\n",
    "                                #transforms.Normalize(mean=(214.0466981, 206.55220904, 203.99178198), std=(54.34939265, 55.62690195, 58.85794001))\n",
    "                               ])\n",
    "                                \n",
    "\n",
    "df_data = dsets.ImageFolder(data_dir, transform = transform)\n",
    "\n",
    "data_loader = torch.utils.data.DataLoader(dataset=df_data,\n",
    "                                          batch_size=batch_size,\n",
    "                                          shuffle=True)\n"
   ]
  },
  {
   "cell_type": "markdown",
   "metadata": {},
   "source": [
    "## VAE Model"
   ]
  },
  {
   "cell_type": "code",
   "execution_count": 79,
   "metadata": {},
   "outputs": [],
   "source": [
    "class VAE(nn.Module):\n",
    "    def __init__(self):\n",
    "        super(VAE, self).__init__()\n",
    "\n",
    "        self.fc1 = nn.Linear(64*64*3, 4096)\n",
    "        self.fc2 = nn.Linear(4096,1000)\n",
    "        self.fc3 = nn.Linear(1000,400)\n",
    "        self.fc31 = nn.Linear(400, 60)\n",
    "        self.fc32 = nn.Linear(400, 60)\n",
    "        self.fc4 = nn.Linear(60, 400)\n",
    "        self.fc5 = nn.Linear(400,1000)\n",
    "        self.fc6 = nn.Linear(1000,4096)\n",
    "        self.fc7 = nn.Linear(4096, 64*64*3)\n",
    "\n",
    "    def encode(self, x):\n",
    "        h1 = F.relu(self.fc1(x))\n",
    "        h2 = F.relu(self.fc2(h1))\n",
    "        h3 = F.relu(self.fc3(h2))\n",
    "        return self.fc31(h3), self.fc32(h3)\n",
    "\n",
    "    def reparameterize(self, mu, logvar):\n",
    "        if self.training:\n",
    "            std = torch.exp(0.5*logvar)\n",
    "            eps = torch.randn_like(std)\n",
    "            return eps.mul(std).add_(mu)\n",
    "        else:\n",
    "            return mu\n",
    "\n",
    "    def decode(self, z):\n",
    "        h4 = F.relu(self.fc4(z))\n",
    "        h5 = F.relu(self.fc5(h4))\n",
    "        h6 = F.relu(self.fc6(h5))\n",
    "        return F.sigmoid(self.fc7(h6))\n",
    "\n",
    "    def forward(self, x):\n",
    "        mu, logvar = self.encode(x.view(-1, 64*64*3))\n",
    "        z = self.reparameterize(mu, logvar)\n",
    "        return self.decode(z), mu, logvar\n",
    "\n",
    "model = VAE().to(device)\n",
    "optimizer = optim.Adam(model.parameters(), lr=1e-3)"
   ]
  },
  {
   "cell_type": "markdown",
   "metadata": {},
   "source": [
    "##  Loss Function"
   ]
  },
  {
   "cell_type": "code",
   "execution_count": 83,
   "metadata": {},
   "outputs": [],
   "source": [
    "# Reconstruction + KL divergence losses summed over all elements and batch\n",
    "def loss_function(recon_x, x, mu, logvar):\n",
    "    BCE = F.binary_cross_entropy(recon_x, x.view(-1, 64*64*3), size_average=False)\n",
    "\n",
    "    # see Appendix B from VAE paper:\n",
    "    # Kingma and Welling. Auto-Encoding Variational Bayes. ICLR, 2014\n",
    "    # https://arxiv.org/abs/1312.6114\n",
    "    # 0.5 * sum(1 + log(sigma^2) - mu^2 - sigma^2)\n",
    "    KLD = -0.5 * torch.sum(1 + logvar - mu.pow(2) - logvar.exp())\n",
    "\n",
    "    return BCE + KLD"
   ]
  },
  {
   "cell_type": "markdown",
   "metadata": {},
   "source": [
    "## Set up training and testing functions"
   ]
  },
  {
   "cell_type": "code",
   "execution_count": 84,
   "metadata": {},
   "outputs": [],
   "source": [
    "def train(epoch):\n",
    "    model.train()\n",
    "    train_loss = 0\n",
    "    for batch_idx, (data, _) in enumerate(data_loader):\n",
    "        data = data.to(device)\n",
    "        optimizer.zero_grad()\n",
    "        recon_batch, mu, logvar = model(data)\n",
    "        loss = loss_function(recon_batch, data, mu, logvar)\n",
    "        loss.backward()\n",
    "        train_loss += loss.item()\n",
    "        optimizer.step()\n",
    "        if batch_idx % 10 == 0:\n",
    "            print('Train Epoch: {} [{}/{} ({:.0f}%)]\\tLoss: {:.6f}'.format(\n",
    "                epoch, batch_idx * len(data), len(data_loader.dataset),\n",
    "                100. * batch_idx / len(data_loader),\n",
    "                loss.item() / len(data)))\n",
    "\n",
    "    print('====> Epoch: {} Average loss: {:.4f}'.format(\n",
    "          epoch, train_loss / len(data_loader.dataset)))\n",
    "\n",
    "\n",
    "def test(epoch):\n",
    "    model.eval()\n",
    "    test_loss = 0\n",
    "    with torch.no_grad():\n",
    "        for i, (data, _) in enumerate(data_loader):\n",
    "            data = data.to(device)\n",
    "            recon_batch, mu, logvar = model(data)\n",
    "            test_loss += loss_function(recon_batch, data, mu, logvar).item()\n",
    "            if i == 0:\n",
    "                n = min(data.size(0), 8)\n",
    "                comparison = torch.cat([data[:n],\n",
    "                                      recon_batch.view(-1, 3, 64, 64)[:n]])\n",
    "                save_image(comparison.cpu(),\n",
    "                         'results/reconstruction_' + str(epoch) + '.png', nrow=n)\n",
    "\n",
    "    test_loss /= len(data_loader.dataset)\n",
    "    print('====> Test set loss: {:.4f}'.format(test_loss))\n"
   ]
  },
  {
   "cell_type": "markdown",
   "metadata": {},
   "source": [
    "# Train and Test"
   ]
  },
  {
   "cell_type": "code",
   "execution_count": 85,
   "metadata": {},
   "outputs": [
    {
     "name": "stdout",
     "output_type": "stream",
     "text": [
      "Train Epoch: 1 [0/96 (0%)]\tLoss: 5039.282552\n",
      "====> Epoch: 1 Average loss: 5039.2826\n",
      "====> Test set loss: 7274.6693\n",
      "Train Epoch: 2 [0/96 (0%)]\tLoss: 5096.013346\n",
      "====> Epoch: 2 Average loss: 5096.0133\n",
      "====> Test set loss: 6067.5534\n",
      "Train Epoch: 3 [0/96 (0%)]\tLoss: 5122.892578\n",
      "====> Epoch: 3 Average loss: 5122.8926\n",
      "====> Test set loss: 6934.6576\n",
      "Train Epoch: 4 [0/96 (0%)]\tLoss: 5049.666341\n",
      "====> Epoch: 4 Average loss: 5049.6663\n",
      "====> Test set loss: 7038.2129\n",
      "Train Epoch: 5 [0/96 (0%)]\tLoss: 5079.668620\n",
      "====> Epoch: 5 Average loss: 5079.6686\n",
      "====> Test set loss: 6263.4382\n",
      "Train Epoch: 6 [0/96 (0%)]\tLoss: 5015.212240\n",
      "====> Epoch: 6 Average loss: 5015.2122\n",
      "====> Test set loss: 5311.8519\n",
      "Train Epoch: 7 [0/96 (0%)]\tLoss: 5117.736003\n",
      "====> Epoch: 7 Average loss: 5117.7360\n",
      "====> Test set loss: 6196.2611\n",
      "Train Epoch: 8 [0/96 (0%)]\tLoss: 5043.021159\n",
      "====> Epoch: 8 Average loss: 5043.0212\n",
      "====> Test set loss: 6341.3301\n",
      "Train Epoch: 9 [0/96 (0%)]\tLoss: 5055.316081\n",
      "====> Epoch: 9 Average loss: 5055.3161\n",
      "====> Test set loss: 5692.3574\n",
      "Train Epoch: 10 [0/96 (0%)]\tLoss: 5009.584961\n",
      "====> Epoch: 10 Average loss: 5009.5850\n",
      "====> Test set loss: 5156.2552\n",
      "Train Epoch: 11 [0/96 (0%)]\tLoss: 5105.445638\n",
      "====> Epoch: 11 Average loss: 5105.4456\n",
      "====> Test set loss: 5747.1934\n",
      "Train Epoch: 12 [0/96 (0%)]\tLoss: 4988.615560\n",
      "====> Epoch: 12 Average loss: 4988.6156\n",
      "====> Test set loss: 6257.9440\n",
      "Train Epoch: 13 [0/96 (0%)]\tLoss: 5045.994792\n",
      "====> Epoch: 13 Average loss: 5045.9948\n",
      "====> Test set loss: 6249.3132\n",
      "Train Epoch: 14 [0/96 (0%)]\tLoss: 5021.595703\n",
      "====> Epoch: 14 Average loss: 5021.5957\n",
      "====> Test set loss: 5813.4538\n",
      "Train Epoch: 15 [0/96 (0%)]\tLoss: 5003.008138\n",
      "====> Epoch: 15 Average loss: 5003.0081\n",
      "====> Test set loss: 5510.5846\n",
      "Train Epoch: 16 [0/96 (0%)]\tLoss: 5056.111328\n",
      "====> Epoch: 16 Average loss: 5056.1113\n",
      "====> Test set loss: 5903.7279\n",
      "Train Epoch: 17 [0/96 (0%)]\tLoss: 4983.407227\n",
      "====> Epoch: 17 Average loss: 4983.4072\n",
      "====> Test set loss: 6405.2995\n",
      "Train Epoch: 18 [0/96 (0%)]\tLoss: 4999.078776\n",
      "====> Epoch: 18 Average loss: 4999.0788\n",
      "====> Test set loss: 6576.3887\n",
      "Train Epoch: 19 [0/96 (0%)]\tLoss: 5031.570964\n",
      "====> Epoch: 19 Average loss: 5031.5710\n",
      "====> Test set loss: 6474.4154\n",
      "Train Epoch: 20 [0/96 (0%)]\tLoss: 4995.918620\n",
      "====> Epoch: 20 Average loss: 4995.9186\n",
      "====> Test set loss: 6244.7448\n"
     ]
    }
   ],
   "source": [
    "for epoch in range(1, num_epochs+1):\n",
    "    train(epoch)\n",
    "    test(epoch)\n",
    "    with torch.no_grad():\n",
    "        sample = torch.randn(64, 60).to(device)\n",
    "        sample = model.decode(sample).cpu()\n",
    "        save_image(sample.view(64, 3, 64, 64),\n",
    "                   'results/sample_' + str(epoch) + '.png')\n"
   ]
  },
  {
   "cell_type": "code",
   "execution_count": null,
   "metadata": {},
   "outputs": [],
   "source": []
  }
 ],
 "metadata": {
  "kernelspec": {
   "display_name": "Python 2",
   "language": "python",
   "name": "python2"
  },
  "language_info": {
   "codemirror_mode": {
    "name": "ipython",
    "version": 2
   },
   "file_extension": ".py",
   "mimetype": "text/x-python",
   "name": "python",
   "nbconvert_exporter": "python",
   "pygments_lexer": "ipython2",
   "version": "2.7.10"
  }
 },
 "nbformat": 4,
 "nbformat_minor": 2
}
