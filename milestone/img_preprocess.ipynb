{
 "cells": [
  {
   "cell_type": "code",
   "execution_count": 32,
   "metadata": {},
   "outputs": [],
   "source": [
    "#importing dependencies\n",
    "from PIL import Image\n",
    "import numpy as np\n",
    "import os"
   ]
  },
  {
   "cell_type": "code",
   "execution_count": 41,
   "metadata": {},
   "outputs": [
    {
     "name": "stdout",
     "output_type": "stream",
     "text": [
      "Current image being processed: 1\n",
      "Current image being processed: 4001\n",
      "Current image being processed: 8001\n",
      "Current image being processed: 12001\n",
      "Current image being processed: 16001\n",
      "Current image being processed: 20001\n",
      "Current image being processed: 24001\n",
      "Current image being processed: 28001\n",
      "Current image being processed: 32001\n",
      "mean of the train image:  [214.0466981  206.55220904 203.99178198]\n",
      "std of the train image:  [54.34939265 55.62690195 58.85794001]\n"
     ]
    }
   ],
   "source": [
    "\n",
    "data_dir = './DF_data/filted_up_train/'\n",
    "save_dir = './DF_data/filtered_sized_up_train/'\n",
    "\n",
    "#Specs for training data\n",
    "#[214.0466981  206.55220904 203.99178198]\n",
    "#std of the train image:  [54.34939265 55.62690195 58.85794001]\n",
    "\n",
    "if not os.path.isdir(save_dir):\n",
    "    os.mkdir(save_dir)\n",
    "    \n",
    "\n",
    "img_list = os.listdir(data_dir)\n",
    "img_list.remove('.DS_Store')\n",
    "N = len(img_list)\n",
    "\n",
    "mean_channels = 0.\n",
    "std_channels = 0.\n",
    "\n",
    "for i in range(N):\n",
    "    if i%4000 == 0:\n",
    "        print(\"Current image being processed:\",(i+1))\n",
    "        \n",
    "    filename = data_dir + img_list[i]\n",
    "    img = Image.open(filename)\n",
    "    img_array = np.array(img).reshape((3,256,256))\n",
    "    mean_channels += img_array.mean((1,2))/N\n",
    "    std_channels += img_array.std((1,2))/N\n",
    "    \n",
    "    new_filename = save_dir + img_list[i][:-3] + 'png'\n",
    "    \n",
    "    resized_img = img.resize((64,64))\n",
    "    resized_img.save(new_filename)\n",
    "    \n",
    "print('mean of the train image: ',mean_channels)\n",
    "print('std of the train image: ',std_channels)"
   ]
  },
  {
   "cell_type": "code",
   "execution_count": 21,
   "metadata": {},
   "outputs": [],
   "source": [
    "#Visualizing an image worked on by mean\n",
    "img = Image.open(data_dir + img_list[0])\n",
    "img_array = np.array(img) - mean_channels\n",
    "img_norm = Image.fromarray(img_array.astype('uint8'), 'RGB')\n",
    "img_norm.show()"
   ]
  }
 ],
 "metadata": {
  "kernelspec": {
   "display_name": "Python 3",
   "language": "python",
   "name": "python3"
  },
  "language_info": {
   "codemirror_mode": {
    "name": "ipython",
    "version": 3
   },
   "file_extension": ".py",
   "mimetype": "text/x-python",
   "name": "python",
   "nbconvert_exporter": "python",
   "pygments_lexer": "ipython3",
   "version": "3.6.4"
  }
 },
 "nbformat": 4,
 "nbformat_minor": 2
}
